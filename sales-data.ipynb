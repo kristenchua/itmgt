{
 "cells": [
  {
   "cell_type": "code",
   "execution_count": 266,
   "id": "e510c4c8-ab8a-4f85-a7e7-5dc258594d31",
   "metadata": {},
   "outputs": [],
   "source": [
    "import pandas as pd\n",
    "df_invoice = pd.read_csv('fct_invoice.csv')\n",
    "df_customer = pd.read_json('dim_customer.json')"
   ]
  },
  {
   "cell_type": "code",
   "execution_count": 267,
   "id": "38bb3e31-96cc-4ba6-8101-f4a169aeb374",
   "metadata": {},
   "outputs": [
    {
     "data": {
      "text/html": [
       "<div>\n",
       "<style scoped>\n",
       "    .dataframe tbody tr th:only-of-type {\n",
       "        vertical-align: middle;\n",
       "    }\n",
       "\n",
       "    .dataframe tbody tr th {\n",
       "        vertical-align: top;\n",
       "    }\n",
       "\n",
       "    .dataframe thead th {\n",
       "        text-align: right;\n",
       "    }\n",
       "</style>\n",
       "<table border=\"1\" class=\"dataframe\">\n",
       "  <thead>\n",
       "    <tr style=\"text-align: right;\">\n",
       "      <th></th>\n",
       "      <th>invoice_no</th>\n",
       "      <th>customer_id</th>\n",
       "      <th>category</th>\n",
       "      <th>quantity</th>\n",
       "      <th>price</th>\n",
       "      <th>payment_method</th>\n",
       "      <th>invoice_date</th>\n",
       "      <th>shopping_mall</th>\n",
       "    </tr>\n",
       "  </thead>\n",
       "  <tbody>\n",
       "    <tr>\n",
       "      <th>0</th>\n",
       "      <td>I138884</td>\n",
       "      <td>229</td>\n",
       "      <td>Clothing</td>\n",
       "      <td>5</td>\n",
       "      <td>1500.40</td>\n",
       "      <td>Credit Card</td>\n",
       "      <td>5/8/2022</td>\n",
       "      <td>Kanyon</td>\n",
       "    </tr>\n",
       "    <tr>\n",
       "      <th>1</th>\n",
       "      <td>I317333</td>\n",
       "      <td>3433</td>\n",
       "      <td>Shoes</td>\n",
       "      <td>3</td>\n",
       "      <td>1800.51</td>\n",
       "      <td>Debit Card</td>\n",
       "      <td>12/12/2021</td>\n",
       "      <td>Forum Istanbul</td>\n",
       "    </tr>\n",
       "    <tr>\n",
       "      <th>2</th>\n",
       "      <td>I127801</td>\n",
       "      <td>644</td>\n",
       "      <td>Clothing</td>\n",
       "      <td>1</td>\n",
       "      <td>300.08</td>\n",
       "      <td>Cash</td>\n",
       "      <td>9/11/2021</td>\n",
       "      <td>Metrocity</td>\n",
       "    </tr>\n",
       "    <tr>\n",
       "      <th>3</th>\n",
       "      <td>I173702</td>\n",
       "      <td>4900</td>\n",
       "      <td>Shoes</td>\n",
       "      <td>5</td>\n",
       "      <td>3000.85</td>\n",
       "      <td>Credit Card</td>\n",
       "      <td>16/05/2021</td>\n",
       "      <td>Metropol AVM</td>\n",
       "    </tr>\n",
       "    <tr>\n",
       "      <th>4</th>\n",
       "      <td>I337046</td>\n",
       "      <td>1089</td>\n",
       "      <td>Books</td>\n",
       "      <td>4</td>\n",
       "      <td>60.60</td>\n",
       "      <td>Cash</td>\n",
       "      <td>24/10/2021</td>\n",
       "      <td>Kanyon</td>\n",
       "    </tr>\n",
       "  </tbody>\n",
       "</table>\n",
       "</div>"
      ],
      "text/plain": [
       "  invoice_no  customer_id  category  quantity    price payment_method  \\\n",
       "0    I138884          229  Clothing         5  1500.40    Credit Card   \n",
       "1    I317333         3433     Shoes         3  1800.51     Debit Card   \n",
       "2    I127801          644  Clothing         1   300.08           Cash   \n",
       "3    I173702         4900     Shoes         5  3000.85    Credit Card   \n",
       "4    I337046         1089     Books         4    60.60           Cash   \n",
       "\n",
       "  invoice_date   shopping_mall  \n",
       "0     5/8/2022          Kanyon  \n",
       "1   12/12/2021  Forum Istanbul  \n",
       "2    9/11/2021       Metrocity  \n",
       "3   16/05/2021    Metropol AVM  \n",
       "4   24/10/2021          Kanyon  "
      ]
     },
     "execution_count": 267,
     "metadata": {},
     "output_type": "execute_result"
    }
   ],
   "source": [
    "#DataFrame of Invoice\n",
    "df_invoice.head()"
   ]
  },
  {
   "cell_type": "code",
   "execution_count": 268,
   "id": "f80320de-67d5-4071-ae1f-dd74c9e69f0c",
   "metadata": {},
   "outputs": [
    {
     "data": {
      "text/html": [
       "<div>\n",
       "<style scoped>\n",
       "    .dataframe tbody tr th:only-of-type {\n",
       "        vertical-align: middle;\n",
       "    }\n",
       "\n",
       "    .dataframe tbody tr th {\n",
       "        vertical-align: top;\n",
       "    }\n",
       "\n",
       "    .dataframe thead th {\n",
       "        text-align: right;\n",
       "    }\n",
       "</style>\n",
       "<table border=\"1\" class=\"dataframe\">\n",
       "  <thead>\n",
       "    <tr style=\"text-align: right;\">\n",
       "      <th></th>\n",
       "      <th>age</th>\n",
       "      <th>first_name</th>\n",
       "      <th>gender</th>\n",
       "      <th>id</th>\n",
       "      <th>last_name</th>\n",
       "    </tr>\n",
       "  </thead>\n",
       "  <tbody>\n",
       "    <tr>\n",
       "      <th>0</th>\n",
       "      <td>48.0</td>\n",
       "      <td>Nicholas</td>\n",
       "      <td>M</td>\n",
       "      <td>0</td>\n",
       "      <td>Flores</td>\n",
       "    </tr>\n",
       "    <tr>\n",
       "      <th>1</th>\n",
       "      <td>NaN</td>\n",
       "      <td>Jeffery</td>\n",
       "      <td>M</td>\n",
       "      <td>1</td>\n",
       "      <td>Rowe</td>\n",
       "    </tr>\n",
       "    <tr>\n",
       "      <th>2</th>\n",
       "      <td>57.0</td>\n",
       "      <td>Alexis</td>\n",
       "      <td>F</td>\n",
       "      <td>2</td>\n",
       "      <td>Benton</td>\n",
       "    </tr>\n",
       "    <tr>\n",
       "      <th>3</th>\n",
       "      <td>73.0</td>\n",
       "      <td>Amy</td>\n",
       "      <td>F</td>\n",
       "      <td>3</td>\n",
       "      <td>Johnson</td>\n",
       "    </tr>\n",
       "    <tr>\n",
       "      <th>4</th>\n",
       "      <td>20.0</td>\n",
       "      <td>David</td>\n",
       "      <td>M</td>\n",
       "      <td>4</td>\n",
       "      <td>Moore</td>\n",
       "    </tr>\n",
       "  </tbody>\n",
       "</table>\n",
       "</div>"
      ],
      "text/plain": [
       "    age first_name gender  id last_name\n",
       "0  48.0   Nicholas      M   0    Flores\n",
       "1   NaN    Jeffery      M   1      Rowe\n",
       "2  57.0     Alexis      F   2    Benton\n",
       "3  73.0        Amy      F   3   Johnson\n",
       "4  20.0      David      M   4     Moore"
      ]
     },
     "execution_count": 268,
     "metadata": {},
     "output_type": "execute_result"
    }
   ],
   "source": [
    "#Data Frame of Customer\n",
    "df_customer.head()"
   ]
  },
  {
   "cell_type": "markdown",
   "id": "e1455c5e-b966-456b-ad21-aa2929869c80",
   "metadata": {},
   "source": [
    "EASY"
   ]
  },
  {
   "cell_type": "markdown",
   "id": "4994bab5-d806-4749-b28d-c35f56f5a6a2",
   "metadata": {},
   "source": [
    "1."
   ]
  },
  {
   "cell_type": "code",
   "execution_count": 269,
   "id": "eb6d7570-4c36-49ae-83da-9b17a5a01540",
   "metadata": {},
   "outputs": [
    {
     "data": {
      "text/plain": [
       "5191"
      ]
     },
     "execution_count": 269,
     "metadata": {},
     "output_type": "execute_result"
    }
   ],
   "source": [
    "# 1. How many unique customers are in the dataset?\n",
    "df_invoice['customer_id'].nunique()"
   ]
  },
  {
   "cell_type": "markdown",
   "id": "a7f9d3d2-f01a-4d9e-b7d5-0b0433d36b57",
   "metadata": {},
   "source": [
    "2."
   ]
  },
  {
   "cell_type": "code",
   "execution_count": 270,
   "id": "488b4c2e-494a-46bd-ab94-047da161a011",
   "metadata": {},
   "outputs": [
    {
     "data": {
      "text/plain": [
       "array(['Clothing', 'Shoes', 'Books', 'Cosmetics', 'Food & Beverage',\n",
       "       'Toys', 'Technology', 'Souvenir'], dtype=object)"
      ]
     },
     "execution_count": 270,
     "metadata": {},
     "output_type": "execute_result"
    }
   ],
   "source": [
    "# 2. a. What are the different categories of products available?\n",
    "df_invoice['category'].unique()"
   ]
  },
  {
   "cell_type": "code",
   "execution_count": 271,
   "id": "1aa33ce8-f30b-425c-bd17-04398ef43702",
   "metadata": {},
   "outputs": [
    {
     "data": {
      "text/plain": [
       "8"
      ]
     },
     "execution_count": 271,
     "metadata": {},
     "output_type": "execute_result"
    }
   ],
   "source": [
    "# 2. b. How many unique categories are there?\n",
    "df_invoice['category'].nunique()\n"
   ]
  },
  {
   "cell_type": "markdown",
   "id": "aa909e19-e165-4e37-8813-40863af479f5",
   "metadata": {},
   "source": [
    "3."
   ]
  },
  {
   "cell_type": "code",
   "execution_count": 272,
   "id": "e6466c75-bb5b-4bc4-aa75-395a7fbae822",
   "metadata": {},
   "outputs": [
    {
     "data": {
      "text/plain": [
       "'Cash'"
      ]
     },
     "execution_count": 272,
     "metadata": {},
     "output_type": "execute_result"
    }
   ],
   "source": [
    "# 3. a. Which payment method is the most popular?\n",
    "df_invoice['payment_method'].value_counts()\n",
    "df_invoice['payment_method'].value_counts().index[0]"
   ]
  },
  {
   "cell_type": "code",
   "execution_count": 273,
   "id": "c8e1b286-1fdd-4805-b089-0808b9d68538",
   "metadata": {},
   "outputs": [
    {
     "data": {
      "text/plain": [
       "44447"
      ]
     },
     "execution_count": 273,
     "metadata": {},
     "output_type": "execute_result"
    }
   ],
   "source": [
    "# 3. b. How many times was it used?\n",
    "df_invoice['payment_method'].value_counts().iloc[0]"
   ]
  },
  {
   "cell_type": "markdown",
   "id": "8176a755-e8ca-4d57-80f0-d8509f3877e8",
   "metadata": {},
   "source": [
    "MEDIUM"
   ]
  },
  {
   "cell_type": "markdown",
   "id": "dea76867-86db-49c8-a8e6-7ac48b11e754",
   "metadata": {},
   "source": [
    "1."
   ]
  },
  {
   "cell_type": "code",
   "execution_count": 274,
   "id": "298a9de3-4eaa-40f5-8b4a-2cd5c68aefa3",
   "metadata": {},
   "outputs": [
    {
     "data": {
      "text/html": [
       "<div>\n",
       "<style scoped>\n",
       "    .dataframe tbody tr th:only-of-type {\n",
       "        vertical-align: middle;\n",
       "    }\n",
       "\n",
       "    .dataframe tbody tr th {\n",
       "        vertical-align: top;\n",
       "    }\n",
       "\n",
       "    .dataframe thead th {\n",
       "        text-align: right;\n",
       "    }\n",
       "</style>\n",
       "<table border=\"1\" class=\"dataframe\">\n",
       "  <thead>\n",
       "    <tr style=\"text-align: right;\">\n",
       "      <th></th>\n",
       "      <th>invoice_no</th>\n",
       "      <th>customer_id</th>\n",
       "      <th>category</th>\n",
       "      <th>quantity</th>\n",
       "      <th>price</th>\n",
       "      <th>payment_method</th>\n",
       "      <th>invoice_date</th>\n",
       "      <th>shopping_mall</th>\n",
       "      <th>total_sales</th>\n",
       "    </tr>\n",
       "  </thead>\n",
       "  <tbody>\n",
       "    <tr>\n",
       "      <th>0</th>\n",
       "      <td>I138884</td>\n",
       "      <td>229</td>\n",
       "      <td>Clothing</td>\n",
       "      <td>5</td>\n",
       "      <td>1500.40</td>\n",
       "      <td>Credit Card</td>\n",
       "      <td>5/8/2022</td>\n",
       "      <td>Kanyon</td>\n",
       "      <td>7502.00</td>\n",
       "    </tr>\n",
       "    <tr>\n",
       "      <th>1</th>\n",
       "      <td>I317333</td>\n",
       "      <td>3433</td>\n",
       "      <td>Shoes</td>\n",
       "      <td>3</td>\n",
       "      <td>1800.51</td>\n",
       "      <td>Debit Card</td>\n",
       "      <td>12/12/2021</td>\n",
       "      <td>Forum Istanbul</td>\n",
       "      <td>5401.53</td>\n",
       "    </tr>\n",
       "    <tr>\n",
       "      <th>2</th>\n",
       "      <td>I127801</td>\n",
       "      <td>644</td>\n",
       "      <td>Clothing</td>\n",
       "      <td>1</td>\n",
       "      <td>300.08</td>\n",
       "      <td>Cash</td>\n",
       "      <td>9/11/2021</td>\n",
       "      <td>Metrocity</td>\n",
       "      <td>300.08</td>\n",
       "    </tr>\n",
       "    <tr>\n",
       "      <th>3</th>\n",
       "      <td>I173702</td>\n",
       "      <td>4900</td>\n",
       "      <td>Shoes</td>\n",
       "      <td>5</td>\n",
       "      <td>3000.85</td>\n",
       "      <td>Credit Card</td>\n",
       "      <td>16/05/2021</td>\n",
       "      <td>Metropol AVM</td>\n",
       "      <td>15004.25</td>\n",
       "    </tr>\n",
       "    <tr>\n",
       "      <th>4</th>\n",
       "      <td>I337046</td>\n",
       "      <td>1089</td>\n",
       "      <td>Books</td>\n",
       "      <td>4</td>\n",
       "      <td>60.60</td>\n",
       "      <td>Cash</td>\n",
       "      <td>24/10/2021</td>\n",
       "      <td>Kanyon</td>\n",
       "      <td>242.40</td>\n",
       "    </tr>\n",
       "  </tbody>\n",
       "</table>\n",
       "</div>"
      ],
      "text/plain": [
       "  invoice_no  customer_id  category  quantity    price payment_method  \\\n",
       "0    I138884          229  Clothing         5  1500.40    Credit Card   \n",
       "1    I317333         3433     Shoes         3  1800.51     Debit Card   \n",
       "2    I127801          644  Clothing         1   300.08           Cash   \n",
       "3    I173702         4900     Shoes         5  3000.85    Credit Card   \n",
       "4    I337046         1089     Books         4    60.60           Cash   \n",
       "\n",
       "  invoice_date   shopping_mall  total_sales  \n",
       "0     5/8/2022          Kanyon      7502.00  \n",
       "1   12/12/2021  Forum Istanbul      5401.53  \n",
       "2    9/11/2021       Metrocity       300.08  \n",
       "3   16/05/2021    Metropol AVM     15004.25  \n",
       "4   24/10/2021          Kanyon       242.40  "
      ]
     },
     "execution_count": 274,
     "metadata": {},
     "output_type": "execute_result"
    }
   ],
   "source": [
    "# Creating a total sales column in df_invoice\n",
    "df_invoice['total_sales'] = df_invoice['quantity'] * df_invoice['price']\n",
    "\n",
    "df_invoice.head()"
   ]
  },
  {
   "cell_type": "code",
   "execution_count": 275,
   "id": "58ef3faf-82d2-4cd0-8a08-73954cf7fd2d",
   "metadata": {},
   "outputs": [
    {
     "data": {
      "text/plain": [
       "category\n",
       "Books              8.345529e+05\n",
       "Clothing           1.139968e+08\n",
       "Cosmetics          6.792863e+06\n",
       "Food & Beverage    8.495351e+05\n",
       "Shoes              6.655345e+07\n",
       "Souvenir           6.358247e+05\n",
       "Technology         5.786235e+07\n",
       "Toys               3.980426e+06\n",
       "Name: total_sales, dtype: float64"
      ]
     },
     "execution_count": 275,
     "metadata": {},
     "output_type": "execute_result"
    }
   ],
   "source": [
    "# Summing the Categories\n",
    "df_invoice.groupby('category')['total_sales'].sum()"
   ]
  },
  {
   "cell_type": "code",
   "execution_count": 276,
   "id": "daa4048d-3e87-4902-8935-76c0ff140212",
   "metadata": {},
   "outputs": [
    {
     "data": {
      "text/plain": [
       "category\n",
       "Books        8.345529e+05\n",
       "Clothing     1.139968e+08\n",
       "Cosmetics    6.792863e+06\n",
       "Name: total_sales, dtype: float64"
      ]
     },
     "execution_count": 276,
     "metadata": {},
     "output_type": "execute_result"
    }
   ],
   "source": [
    "# Finding top 3\n",
    "df_invoice.groupby('category')['total_sales'].sum().head(3)"
   ]
  },
  {
   "cell_type": "code",
   "execution_count": 277,
   "id": "9125522d-b666-4f81-8c4e-19460c6e2af8",
   "metadata": {
    "scrolled": true
   },
   "outputs": [
    {
     "name": "stdout",
     "output_type": "stream",
     "text": [
      "Clothing: ₱113,996,791.04\n",
      "Shoes: ₱66,553,451.47\n",
      "Technology: ₱57,862,350.00\n"
     ]
    }
   ],
   "source": [
    "# 1. What are the three most popular categories, by total sales?\n",
    "category_sales = df_invoice.groupby('category')['total_sales'].sum()\n",
    "category_sales.sort_values(ascending = False).head(3)\n",
    "top3 = category_sales.sort_values(ascending = False).head(3)\n",
    "\n",
    "for category, sales in top3.items():\n",
    "    print(f\"{category}: ₱{sales:,.2f}\")"
   ]
  },
  {
   "cell_type": "markdown",
   "id": "8a2fd87b-55ce-4c31-a6de-e901fff54754",
   "metadata": {},
   "source": [
    "2."
   ]
  },
  {
   "cell_type": "code",
   "execution_count": 278,
   "id": "cba5063c-24d0-4f3d-9e67-e2d07c79e5f9",
   "metadata": {},
   "outputs": [
    {
     "data": {
      "text/html": [
       "<div>\n",
       "<style scoped>\n",
       "    .dataframe tbody tr th:only-of-type {\n",
       "        vertical-align: middle;\n",
       "    }\n",
       "\n",
       "    .dataframe tbody tr th {\n",
       "        vertical-align: top;\n",
       "    }\n",
       "\n",
       "    .dataframe thead th {\n",
       "        text-align: right;\n",
       "    }\n",
       "</style>\n",
       "<table border=\"1\" class=\"dataframe\">\n",
       "  <thead>\n",
       "    <tr style=\"text-align: right;\">\n",
       "      <th></th>\n",
       "      <th>invoice_no</th>\n",
       "      <th>customer_id</th>\n",
       "      <th>category</th>\n",
       "      <th>quantity</th>\n",
       "      <th>price</th>\n",
       "      <th>payment_method</th>\n",
       "      <th>invoice_date</th>\n",
       "      <th>shopping_mall</th>\n",
       "      <th>total_sales</th>\n",
       "      <th>age</th>\n",
       "      <th>first_name</th>\n",
       "      <th>gender</th>\n",
       "      <th>id</th>\n",
       "      <th>last_name</th>\n",
       "    </tr>\n",
       "  </thead>\n",
       "  <tbody>\n",
       "    <tr>\n",
       "      <th>0</th>\n",
       "      <td>I138884</td>\n",
       "      <td>229</td>\n",
       "      <td>Clothing</td>\n",
       "      <td>5</td>\n",
       "      <td>1500.40</td>\n",
       "      <td>Credit Card</td>\n",
       "      <td>5/8/2022</td>\n",
       "      <td>Kanyon</td>\n",
       "      <td>7502.00</td>\n",
       "      <td>NaN</td>\n",
       "      <td>William</td>\n",
       "      <td>M</td>\n",
       "      <td>229</td>\n",
       "      <td>Anderson</td>\n",
       "    </tr>\n",
       "    <tr>\n",
       "      <th>1</th>\n",
       "      <td>I317333</td>\n",
       "      <td>3433</td>\n",
       "      <td>Shoes</td>\n",
       "      <td>3</td>\n",
       "      <td>1800.51</td>\n",
       "      <td>Debit Card</td>\n",
       "      <td>12/12/2021</td>\n",
       "      <td>Forum Istanbul</td>\n",
       "      <td>5401.53</td>\n",
       "      <td>34.0</td>\n",
       "      <td>Danielle</td>\n",
       "      <td>F</td>\n",
       "      <td>3433</td>\n",
       "      <td>Rivera</td>\n",
       "    </tr>\n",
       "    <tr>\n",
       "      <th>2</th>\n",
       "      <td>I127801</td>\n",
       "      <td>644</td>\n",
       "      <td>Clothing</td>\n",
       "      <td>1</td>\n",
       "      <td>300.08</td>\n",
       "      <td>Cash</td>\n",
       "      <td>9/11/2021</td>\n",
       "      <td>Metrocity</td>\n",
       "      <td>300.08</td>\n",
       "      <td>46.0</td>\n",
       "      <td>Christopher</td>\n",
       "      <td>M</td>\n",
       "      <td>644</td>\n",
       "      <td>Stephens</td>\n",
       "    </tr>\n",
       "    <tr>\n",
       "      <th>3</th>\n",
       "      <td>I173702</td>\n",
       "      <td>4900</td>\n",
       "      <td>Shoes</td>\n",
       "      <td>5</td>\n",
       "      <td>3000.85</td>\n",
       "      <td>Credit Card</td>\n",
       "      <td>16/05/2021</td>\n",
       "      <td>Metropol AVM</td>\n",
       "      <td>15004.25</td>\n",
       "      <td>46.0</td>\n",
       "      <td>Laura</td>\n",
       "      <td>F</td>\n",
       "      <td>4900</td>\n",
       "      <td>Kelly</td>\n",
       "    </tr>\n",
       "    <tr>\n",
       "      <th>4</th>\n",
       "      <td>I337046</td>\n",
       "      <td>1089</td>\n",
       "      <td>Books</td>\n",
       "      <td>4</td>\n",
       "      <td>60.60</td>\n",
       "      <td>Cash</td>\n",
       "      <td>24/10/2021</td>\n",
       "      <td>Kanyon</td>\n",
       "      <td>242.40</td>\n",
       "      <td>NaN</td>\n",
       "      <td>Richard</td>\n",
       "      <td>M</td>\n",
       "      <td>1089</td>\n",
       "      <td>Rhodes</td>\n",
       "    </tr>\n",
       "  </tbody>\n",
       "</table>\n",
       "</div>"
      ],
      "text/plain": [
       "  invoice_no  customer_id  category  quantity    price payment_method  \\\n",
       "0    I138884          229  Clothing         5  1500.40    Credit Card   \n",
       "1    I317333         3433     Shoes         3  1800.51     Debit Card   \n",
       "2    I127801          644  Clothing         1   300.08           Cash   \n",
       "3    I173702         4900     Shoes         5  3000.85    Credit Card   \n",
       "4    I337046         1089     Books         4    60.60           Cash   \n",
       "\n",
       "  invoice_date   shopping_mall  total_sales   age   first_name gender    id  \\\n",
       "0     5/8/2022          Kanyon      7502.00   NaN      William      M   229   \n",
       "1   12/12/2021  Forum Istanbul      5401.53  34.0     Danielle      F  3433   \n",
       "2    9/11/2021       Metrocity       300.08  46.0  Christopher      M   644   \n",
       "3   16/05/2021    Metropol AVM     15004.25  46.0        Laura      F  4900   \n",
       "4   24/10/2021          Kanyon       242.40   NaN      Richard      M  1089   \n",
       "\n",
       "  last_name  \n",
       "0  Anderson  \n",
       "1    Rivera  \n",
       "2  Stephens  \n",
       "3     Kelly  \n",
       "4    Rhodes  "
      ]
     },
     "execution_count": 278,
     "metadata": {},
     "output_type": "execute_result"
    }
   ],
   "source": [
    "# Merging Customer and Invoice Data for reference\n",
    "merged = df_invoice.merge(df_customer, left_on='customer_id', right_on='id')\n",
    "merged.head()"
   ]
  },
  {
   "cell_type": "code",
   "execution_count": 279,
   "id": "d4a27423-0d52-4882-8eca-db5830158743",
   "metadata": {},
   "outputs": [
    {
     "data": {
      "text/plain": [
       "82039768.15"
      ]
     },
     "execution_count": 279,
     "metadata": {},
     "output_type": "execute_result"
    }
   ],
   "source": [
    "# 2. What are the total sales attributed to customers over the age of 45?\n",
    "merged[merged['age'] > 45]['total_sales'].sum() # filteres and sums the age"
   ]
  },
  {
   "cell_type": "markdown",
   "id": "2f7dc6c0-89a8-4f15-837b-c0c9c895cb0e",
   "metadata": {},
   "source": [
    "3."
   ]
  },
  {
   "cell_type": "code",
   "execution_count": 280,
   "id": "934df26b-45ed-402e-880c-260b56d20d8c",
   "metadata": {},
   "outputs": [
    {
     "data": {
      "text/plain": [
       "invoice_date\n",
       "2021-01    3835\n",
       "2021-02    3407\n",
       "2021-03    3813\n",
       "2021-04    3724\n",
       "2021-05    3848\n",
       "2021-06    3783\n",
       "2021-07    3984\n",
       "2021-08    3723\n",
       "2021-09    3670\n",
       "2021-10    3916\n",
       "2021-11    3798\n",
       "2021-12    3881\n",
       "2022-01    3847\n",
       "2022-02    3447\n",
       "2022-03    3947\n",
       "2022-04    3763\n",
       "2022-05    3849\n",
       "2022-06    3798\n",
       "2022-07    3893\n",
       "2022-08    3912\n",
       "2022-09    3683\n",
       "2022-10    3848\n",
       "2022-11    3765\n",
       "2022-12    3799\n",
       "2023-01    3926\n",
       "2023-02    3628\n",
       "2023-03     970\n",
       "Freq: M, Name: count, dtype: int64"
      ]
     },
     "execution_count": 280,
     "metadata": {},
     "output_type": "execute_result"
    }
   ],
   "source": [
    "# Showing sales per month \n",
    "import matplotlib.pyplot as plt\n",
    "df_invoice['invoice_date'] = pd.to_datetime(df_invoice['invoice_date'], dayfirst = True) # Formatting to dd/mm/yyyy\n",
    "df_invoice['invoice_date'].dt.to_period('M').value_counts().sort_index()"
   ]
  },
  {
   "cell_type": "code",
   "execution_count": 281,
   "id": "9916b82d-8e05-4d89-82aa-cb41429d3e23",
   "metadata": {},
   "outputs": [
    {
     "data": {
      "image/png": "[encoded data removed]",
      "text/plain": [
       "<Figure size 640x480 with 1 Axes>"
      ]
     },
     "metadata": {},
     "output_type": "display_data"
    }
   ],
   "source": [
    "# 3. How is the data distributed across different invoice dates? Are there any seasonal trends or patterns? (Use a graph for this.)\n",
    "\n",
    "monthly_counts = df_invoice['invoice_date'].dt.to_period('M').value_counts().sort_index()\n",
    "\n",
    "monthly_counts.plot(kind = 'line', marker = 'o', title = 'Monthly Invoice') # line graph\n",
    "plt.xlabel('Month')\n",
    "plt.ylabel('Number of Invoices')\n",
    "plt.grid(True)\n",
    "plt.tight_layout()\n",
    "plt.show()"
   ]
  },
  {
   "cell_type": "code",
   "execution_count": 282,
   "id": "abd2a4da-d46a-48b2-b4e0-f84e2dc1e79d",
   "metadata": {},
   "outputs": [
    {
     "data": {
      "text/plain": [
       "'\\nFrom the line graph, we can see how customer activity fluctuates per month from 2021 through \\nearly 2023. Usually, there is a consistent invoice of around 3500 and 4000, showing steady\\nsales and activities without extreme valleys. There are slight peaks such as around mid 2021\\nand late 2022, which could possibly suggest holiday shopping. However, there is one significant\\ndip that appears at the end of the chart in the first quarter of 2023, possibly due to incomplete data\\nthan an actual decline of invoices.\\n'"
      ]
     },
     "execution_count": 282,
     "metadata": {},
     "output_type": "execute_result"
    }
   ],
   "source": [
    "'''\n",
    "From the line graph, we can see how customer activity fluctuates per month from 2021 through \n",
    "early 2023. Usually, there is a consistent invoice of around 3500 and 4000, showing steady\n",
    "sales and activities without extreme valleys. There are slight peaks such as around mid 2021\n",
    "and late 2022, which could possibly suggest holiday shopping. However, there is one significant\n",
    "dip that appears at the end of the chart in the first quarter of 2023, possibly due to incomplete data\n",
    "than an actual decline of invoices.\n",
    "'''"
   ]
  },
  {
   "cell_type": "markdown",
   "id": "5f0e2adb-262e-4389-ab14-993ef01d5bf0",
   "metadata": {},
   "source": [
    "Hard"
   ]
  },
  {
   "cell_type": "markdown",
   "id": "c3a7b897-5551-492b-b999-79e56e81a333",
   "metadata": {},
   "source": [
    "1. "
   ]
  },
  {
   "cell_type": "code",
   "execution_count": 283,
   "id": "334cc7a2-b9f4-4b28-bdf8-aa435f58ef40",
   "metadata": {},
   "outputs": [
    {
     "data": {
      "text/html": [
       "<div>\n",
       "<style scoped>\n",
       "    .dataframe tbody tr th:only-of-type {\n",
       "        vertical-align: middle;\n",
       "    }\n",
       "\n",
       "    .dataframe tbody tr th {\n",
       "        vertical-align: top;\n",
       "    }\n",
       "\n",
       "    .dataframe thead th {\n",
       "        text-align: right;\n",
       "    }\n",
       "</style>\n",
       "<table border=\"1\" class=\"dataframe\">\n",
       "  <thead>\n",
       "    <tr style=\"text-align: right;\">\n",
       "      <th></th>\n",
       "      <th>invoice_no</th>\n",
       "      <th>customer_id</th>\n",
       "      <th>category</th>\n",
       "      <th>quantity</th>\n",
       "      <th>price</th>\n",
       "      <th>payment_method</th>\n",
       "      <th>invoice_date</th>\n",
       "      <th>shopping_mall</th>\n",
       "      <th>total_sales</th>\n",
       "      <th>age</th>\n",
       "      <th>first_name</th>\n",
       "      <th>gender</th>\n",
       "      <th>id</th>\n",
       "      <th>last_name</th>\n",
       "    </tr>\n",
       "  </thead>\n",
       "  <tbody>\n",
       "    <tr>\n",
       "      <th>1</th>\n",
       "      <td>I317333</td>\n",
       "      <td>3433</td>\n",
       "      <td>Shoes</td>\n",
       "      <td>3</td>\n",
       "      <td>1800.51</td>\n",
       "      <td>Debit Card</td>\n",
       "      <td>12/12/2021</td>\n",
       "      <td>Forum Istanbul</td>\n",
       "      <td>5401.53</td>\n",
       "      <td>34.0</td>\n",
       "      <td>Danielle</td>\n",
       "      <td>F</td>\n",
       "      <td>3433</td>\n",
       "      <td>Rivera</td>\n",
       "    </tr>\n",
       "    <tr>\n",
       "      <th>2</th>\n",
       "      <td>I127801</td>\n",
       "      <td>644</td>\n",
       "      <td>Clothing</td>\n",
       "      <td>1</td>\n",
       "      <td>300.08</td>\n",
       "      <td>Cash</td>\n",
       "      <td>9/11/2021</td>\n",
       "      <td>Metrocity</td>\n",
       "      <td>300.08</td>\n",
       "      <td>46.0</td>\n",
       "      <td>Christopher</td>\n",
       "      <td>M</td>\n",
       "      <td>644</td>\n",
       "      <td>Stephens</td>\n",
       "    </tr>\n",
       "    <tr>\n",
       "      <th>3</th>\n",
       "      <td>I173702</td>\n",
       "      <td>4900</td>\n",
       "      <td>Shoes</td>\n",
       "      <td>5</td>\n",
       "      <td>3000.85</td>\n",
       "      <td>Credit Card</td>\n",
       "      <td>16/05/2021</td>\n",
       "      <td>Metropol AVM</td>\n",
       "      <td>15004.25</td>\n",
       "      <td>46.0</td>\n",
       "      <td>Laura</td>\n",
       "      <td>F</td>\n",
       "      <td>4900</td>\n",
       "      <td>Kelly</td>\n",
       "    </tr>\n",
       "    <tr>\n",
       "      <th>5</th>\n",
       "      <td>I227836</td>\n",
       "      <td>349</td>\n",
       "      <td>Clothing</td>\n",
       "      <td>5</td>\n",
       "      <td>1500.40</td>\n",
       "      <td>Credit Card</td>\n",
       "      <td>24/05/2022</td>\n",
       "      <td>Forum Istanbul</td>\n",
       "      <td>7502.00</td>\n",
       "      <td>64.0</td>\n",
       "      <td>Cindy</td>\n",
       "      <td>F</td>\n",
       "      <td>349</td>\n",
       "      <td>Meyer</td>\n",
       "    </tr>\n",
       "    <tr>\n",
       "      <th>8</th>\n",
       "      <td>I293455</td>\n",
       "      <td>3208</td>\n",
       "      <td>Clothing</td>\n",
       "      <td>3</td>\n",
       "      <td>900.24</td>\n",
       "      <td>Credit Card</td>\n",
       "      <td>4/11/2021</td>\n",
       "      <td>Metrocity</td>\n",
       "      <td>2700.72</td>\n",
       "      <td>35.0</td>\n",
       "      <td>Travis</td>\n",
       "      <td>M</td>\n",
       "      <td>3208</td>\n",
       "      <td>Martin</td>\n",
       "    </tr>\n",
       "  </tbody>\n",
       "</table>\n",
       "</div>"
      ],
      "text/plain": [
       "  invoice_no  customer_id  category  quantity    price payment_method  \\\n",
       "1    I317333         3433     Shoes         3  1800.51     Debit Card   \n",
       "2    I127801          644  Clothing         1   300.08           Cash   \n",
       "3    I173702         4900     Shoes         5  3000.85    Credit Card   \n",
       "5    I227836          349  Clothing         5  1500.40    Credit Card   \n",
       "8    I293455         3208  Clothing         3   900.24    Credit Card   \n",
       "\n",
       "  invoice_date   shopping_mall  total_sales   age   first_name gender    id  \\\n",
       "1   12/12/2021  Forum Istanbul      5401.53  34.0     Danielle      F  3433   \n",
       "2    9/11/2021       Metrocity       300.08  46.0  Christopher      M   644   \n",
       "3   16/05/2021    Metropol AVM     15004.25  46.0        Laura      F  4900   \n",
       "5   24/05/2022  Forum Istanbul      7502.00  64.0        Cindy      F   349   \n",
       "8    4/11/2021       Metrocity      2700.72  35.0       Travis      M  3208   \n",
       "\n",
       "  last_name  \n",
       "1    Rivera  \n",
       "2  Stephens  \n",
       "3     Kelly  \n",
       "5     Meyer  \n",
       "8    Martin  "
      ]
     },
     "execution_count": 283,
     "metadata": {},
     "output_type": "execute_result"
    }
   ],
   "source": [
    "# remove Nan ages\n",
    "merged.dropna(subset=['age'])\n",
    "merged = merged.dropna(subset=['age']) \n",
    "merged.head()"
   ]
  },
  {
   "cell_type": "code",
   "execution_count": 284,
   "id": "e3112078-7d21-4b25-94b5-aaa0eff8d806",
   "metadata": {},
   "outputs": [
    {
     "data": {
      "text/html": [
       "<div>\n",
       "<style scoped>\n",
       "    .dataframe tbody tr th:only-of-type {\n",
       "        vertical-align: middle;\n",
       "    }\n",
       "\n",
       "    .dataframe tbody tr th {\n",
       "        vertical-align: top;\n",
       "    }\n",
       "\n",
       "    .dataframe thead th {\n",
       "        text-align: right;\n",
       "    }\n",
       "</style>\n",
       "<table border=\"1\" class=\"dataframe\">\n",
       "  <thead>\n",
       "    <tr style=\"text-align: right;\">\n",
       "      <th></th>\n",
       "      <th>age</th>\n",
       "      <th>age_range</th>\n",
       "    </tr>\n",
       "  </thead>\n",
       "  <tbody>\n",
       "    <tr>\n",
       "      <th>1</th>\n",
       "      <td>34</td>\n",
       "      <td>30-39</td>\n",
       "    </tr>\n",
       "    <tr>\n",
       "      <th>2</th>\n",
       "      <td>46</td>\n",
       "      <td>40-49</td>\n",
       "    </tr>\n",
       "    <tr>\n",
       "      <th>3</th>\n",
       "      <td>46</td>\n",
       "      <td>40-49</td>\n",
       "    </tr>\n",
       "    <tr>\n",
       "      <th>5</th>\n",
       "      <td>64</td>\n",
       "      <td>60-69</td>\n",
       "    </tr>\n",
       "    <tr>\n",
       "      <th>8</th>\n",
       "      <td>35</td>\n",
       "      <td>30-39</td>\n",
       "    </tr>\n",
       "  </tbody>\n",
       "</table>\n",
       "</div>"
      ],
      "text/plain": [
       "   age age_range\n",
       "1   34     30-39\n",
       "2   46     40-49\n",
       "3   46     40-49\n",
       "5   64     60-69\n",
       "8   35     30-39"
      ]
     },
     "execution_count": 284,
     "metadata": {},
     "output_type": "execute_result"
    }
   ],
   "source": [
    "# Add age ranges\n",
    "\n",
    "lower = ((merged['age'] // 10) * 10).astype(int)\n",
    "upper = (lower + 9).astype(int)\n",
    "merged['age_range'] = lower.astype(str) + '-' + upper.astype(str)\n",
    "merged['age'] = merged['age'].astype(int)\n",
    "\n",
    "merged[['age', 'age_range']].head()"
   ]
  },
  {
   "cell_type": "code",
   "execution_count": 285,
   "id": "d36816d6-fe1d-4e39-a00b-e441ad919cfe",
   "metadata": {},
   "outputs": [
    {
     "data": {
      "text/html": [
       "<style type=\"text/css\">\n",
       "</style>\n",
       "<table id=\"T_16796\">\n",
       "  <thead>\n",
       "    <tr>\n",
       "      <th class=\"index_name level0\" >age_range</th>\n",
       "      <th id=\"T_16796_level0_col0\" class=\"col_heading level0 col0\" >10-19</th>\n",
       "      <th id=\"T_16796_level0_col1\" class=\"col_heading level0 col1\" >20-29</th>\n",
       "      <th id=\"T_16796_level0_col2\" class=\"col_heading level0 col2\" >30-39</th>\n",
       "      <th id=\"T_16796_level0_col3\" class=\"col_heading level0 col3\" >40-49</th>\n",
       "      <th id=\"T_16796_level0_col4\" class=\"col_heading level0 col4\" >50-59</th>\n",
       "      <th id=\"T_16796_level0_col5\" class=\"col_heading level0 col5\" >60-69</th>\n",
       "      <th id=\"T_16796_level0_col6\" class=\"col_heading level0 col6\" >70-79</th>\n",
       "      <th id=\"T_16796_level0_col7\" class=\"col_heading level0 col7\" >80-89</th>\n",
       "      <th id=\"T_16796_level0_col8\" class=\"col_heading level0 col8\" >Total</th>\n",
       "    </tr>\n",
       "    <tr>\n",
       "      <th class=\"index_name level0\" >category</th>\n",
       "      <th class=\"blank col0\" >&nbsp;</th>\n",
       "      <th class=\"blank col1\" >&nbsp;</th>\n",
       "      <th class=\"blank col2\" >&nbsp;</th>\n",
       "      <th class=\"blank col3\" >&nbsp;</th>\n",
       "      <th class=\"blank col4\" >&nbsp;</th>\n",
       "      <th class=\"blank col5\" >&nbsp;</th>\n",
       "      <th class=\"blank col6\" >&nbsp;</th>\n",
       "      <th class=\"blank col7\" >&nbsp;</th>\n",
       "      <th class=\"blank col8\" >&nbsp;</th>\n",
       "    </tr>\n",
       "  </thead>\n",
       "  <tbody>\n",
       "    <tr>\n",
       "      <th id=\"T_16796_level0_row0\" class=\"row_heading level0 row0\" >Books</th>\n",
       "      <td id=\"T_16796_row0_col0\" class=\"data row0 col0\" >12,801.75</td>\n",
       "      <td id=\"T_16796_row0_col1\" class=\"data row0 col1\" >79,461.75</td>\n",
       "      <td id=\"T_16796_row0_col2\" class=\"data row0 col2\" >84,143.10</td>\n",
       "      <td id=\"T_16796_row0_col3\" class=\"data row0 col3\" >87,203.40</td>\n",
       "      <td id=\"T_16796_row0_col4\" class=\"data row0 col4\" >74,962.20</td>\n",
       "      <td id=\"T_16796_row0_col5\" class=\"data row0 col5\" >80,476.80</td>\n",
       "      <td id=\"T_16796_row0_col6\" class=\"data row0 col6\" >54,827.85</td>\n",
       "      <td id=\"T_16796_row0_col7\" class=\"data row0 col7\" >26,664.00</td>\n",
       "      <td id=\"T_16796_row0_col8\" class=\"data row0 col8\" >500,540.85</td>\n",
       "    </tr>\n",
       "    <tr>\n",
       "      <th id=\"T_16796_level0_row1\" class=\"row_heading level0 row1\" >Clothing</th>\n",
       "      <td id=\"T_16796_row1_col0\" class=\"data row1 col0\" >1,927,413.84</td>\n",
       "      <td id=\"T_16796_row1_col1\" class=\"data row1 col1\" >10,250,732.80</td>\n",
       "      <td id=\"T_16796_row1_col2\" class=\"data row1 col2\" >11,354,126.96</td>\n",
       "      <td id=\"T_16796_row1_col3\" class=\"data row1 col3\" >11,215,189.92</td>\n",
       "      <td id=\"T_16796_row1_col4\" class=\"data row1 col4\" >10,321,851.76</td>\n",
       "      <td id=\"T_16796_row1_col5\" class=\"data row1 col5\" >10,660,642.08</td>\n",
       "      <td id=\"T_16796_row1_col6\" class=\"data row1 col6\" >7,769,371.28</td>\n",
       "      <td id=\"T_16796_row1_col7\" class=\"data row1 col7\" >4,493,698.00</td>\n",
       "      <td id=\"T_16796_row1_col8\" class=\"data row1 col8\" >67,993,026.64</td>\n",
       "    </tr>\n",
       "    <tr>\n",
       "      <th id=\"T_16796_level0_row2\" class=\"row_heading level0 row2\" >Cosmetics</th>\n",
       "      <td id=\"T_16796_row2_col0\" class=\"data row2 col0\" >109,619.36</td>\n",
       "      <td id=\"T_16796_row2_col1\" class=\"data row2 col1\" >605,915.32</td>\n",
       "      <td id=\"T_16796_row2_col2\" class=\"data row2 col2\" >723,544.70</td>\n",
       "      <td id=\"T_16796_row2_col3\" class=\"data row2 col3\" >665,034.96</td>\n",
       "      <td id=\"T_16796_row2_col4\" class=\"data row2 col4\" >587,780.96</td>\n",
       "      <td id=\"T_16796_row2_col5\" class=\"data row2 col5\" >649,990.76</td>\n",
       "      <td id=\"T_16796_row2_col6\" class=\"data row2 col6\" >419,082.62</td>\n",
       "      <td id=\"T_16796_row2_col7\" class=\"data row2 col7\" >254,531.60</td>\n",
       "      <td id=\"T_16796_row2_col8\" class=\"data row2 col8\" >4,015,500.28</td>\n",
       "    </tr>\n",
       "    <tr>\n",
       "      <th id=\"T_16796_level0_row3\" class=\"row_heading level0 row3\" >Food & Beverage</th>\n",
       "      <td id=\"T_16796_row3_col0\" class=\"data row3 col0\" >13,582.31</td>\n",
       "      <td id=\"T_16796_row3_col1\" class=\"data row3 col1\" >73,491.96</td>\n",
       "      <td id=\"T_16796_row3_col2\" class=\"data row3 col2\" >87,246.86</td>\n",
       "      <td id=\"T_16796_row3_col3\" class=\"data row3 col3\" >89,553.29</td>\n",
       "      <td id=\"T_16796_row3_col4\" class=\"data row3 col4\" >72,425.04</td>\n",
       "      <td id=\"T_16796_row3_col5\" class=\"data row3 col5\" >80,976.09</td>\n",
       "      <td id=\"T_16796_row3_col6\" class=\"data row3 col6\" >55,050.98</td>\n",
       "      <td id=\"T_16796_row3_col7\" class=\"data row3 col7\" >31,332.93</td>\n",
       "      <td id=\"T_16796_row3_col8\" class=\"data row3 col8\" >503,659.46</td>\n",
       "    </tr>\n",
       "    <tr>\n",
       "      <th id=\"T_16796_level0_row4\" class=\"row_heading level0 row4\" >Shoes</th>\n",
       "      <td id=\"T_16796_row4_col0\" class=\"data row4 col0\" >993,281.35</td>\n",
       "      <td id=\"T_16796_row4_col1\" class=\"data row4 col1\" >5,924,878.24</td>\n",
       "      <td id=\"T_16796_row4_col2\" class=\"data row4 col2\" >7,200,839.66</td>\n",
       "      <td id=\"T_16796_row4_col3\" class=\"data row4 col3\" >7,025,590.02</td>\n",
       "      <td id=\"T_16796_row4_col4\" class=\"data row4 col4\" >5,852,857.84</td>\n",
       "      <td id=\"T_16796_row4_col5\" class=\"data row4 col5\" >5,978,893.54</td>\n",
       "      <td id=\"T_16796_row4_col6\" class=\"data row4 col6\" >4,480,269.05</td>\n",
       "      <td id=\"T_16796_row4_col7\" class=\"data row4 col7\" >2,628,744.60</td>\n",
       "      <td id=\"T_16796_row4_col8\" class=\"data row4 col8\" >40,085,354.30</td>\n",
       "    </tr>\n",
       "    <tr>\n",
       "      <th id=\"T_16796_level0_row5\" class=\"row_heading level0 row5\" >Souvenir</th>\n",
       "      <td id=\"T_16796_row5_col0\" class=\"data row5 col0\" >12,375.15</td>\n",
       "      <td id=\"T_16796_row5_col1\" class=\"data row5 col1\" >54,943.32</td>\n",
       "      <td id=\"T_16796_row5_col2\" class=\"data row5 col2\" >64,092.72</td>\n",
       "      <td id=\"T_16796_row5_col3\" class=\"data row5 col3\" >66,391.80</td>\n",
       "      <td id=\"T_16796_row5_col4\" class=\"data row5 col4\" >54,943.32</td>\n",
       "      <td id=\"T_16796_row5_col5\" class=\"data row5 col5\" >55,025.43</td>\n",
       "      <td id=\"T_16796_row5_col6\" class=\"data row5 col6\" >38,673.81</td>\n",
       "      <td id=\"T_16796_row5_col7\" class=\"data row5 col7\" >23,718.06</td>\n",
       "      <td id=\"T_16796_row5_col8\" class=\"data row5 col8\" >370,163.61</td>\n",
       "    </tr>\n",
       "    <tr>\n",
       "      <th id=\"T_16796_level0_row6\" class=\"row_heading level0 row6\" >Technology</th>\n",
       "      <td id=\"T_16796_row6_col0\" class=\"data row6 col0\" >1,129,800.00</td>\n",
       "      <td id=\"T_16796_row6_col1\" class=\"data row6 col1\" >5,261,550.00</td>\n",
       "      <td id=\"T_16796_row6_col2\" class=\"data row6 col2\" >6,159,300.00</td>\n",
       "      <td id=\"T_16796_row6_col3\" class=\"data row6 col3\" >5,954,550.00</td>\n",
       "      <td id=\"T_16796_row6_col4\" class=\"data row6 col4\" >4,435,200.00</td>\n",
       "      <td id=\"T_16796_row6_col5\" class=\"data row6 col5\" >5,471,550.00</td>\n",
       "      <td id=\"T_16796_row6_col6\" class=\"data row6 col6\" >3,638,250.00</td>\n",
       "      <td id=\"T_16796_row6_col7\" class=\"data row6 col7\" >1,946,700.00</td>\n",
       "      <td id=\"T_16796_row6_col8\" class=\"data row6 col8\" >33,996,900.00</td>\n",
       "    </tr>\n",
       "    <tr>\n",
       "      <th id=\"T_16796_level0_row7\" class=\"row_heading level0 row7\" >Toys</th>\n",
       "      <td id=\"T_16796_row7_col0\" class=\"data row7 col0\" >60,426.24</td>\n",
       "      <td id=\"T_16796_row7_col1\" class=\"data row7 col1\" >385,100.80</td>\n",
       "      <td id=\"T_16796_row7_col2\" class=\"data row7 col2\" >420,582.40</td>\n",
       "      <td id=\"T_16796_row7_col3\" class=\"data row7 col3\" >390,906.88</td>\n",
       "      <td id=\"T_16796_row7_col4\" class=\"data row7 col4\" >345,067.52</td>\n",
       "      <td id=\"T_16796_row7_col5\" class=\"data row7 col5\" >363,955.20</td>\n",
       "      <td id=\"T_16796_row7_col6\" class=\"data row7 col6\" >273,244.16</td>\n",
       "      <td id=\"T_16796_row7_col7\" class=\"data row7 col7\" >153,932.80</td>\n",
       "      <td id=\"T_16796_row7_col8\" class=\"data row7 col8\" >2,393,216.00</td>\n",
       "    </tr>\n",
       "    <tr>\n",
       "      <th id=\"T_16796_level0_row8\" class=\"row_heading level0 row8\" >Total</th>\n",
       "      <td id=\"T_16796_row8_col0\" class=\"data row8 col0\" >4,259,300.00</td>\n",
       "      <td id=\"T_16796_row8_col1\" class=\"data row8 col1\" >22,636,074.19</td>\n",
       "      <td id=\"T_16796_row8_col2\" class=\"data row8 col2\" >26,093,876.40</td>\n",
       "      <td id=\"T_16796_row8_col3\" class=\"data row8 col3\" >25,494,420.27</td>\n",
       "      <td id=\"T_16796_row8_col4\" class=\"data row8 col4\" >21,745,088.64</td>\n",
       "      <td id=\"T_16796_row8_col5\" class=\"data row8 col5\" >23,341,509.90</td>\n",
       "      <td id=\"T_16796_row8_col6\" class=\"data row8 col6\" >16,728,769.75</td>\n",
       "      <td id=\"T_16796_row8_col7\" class=\"data row8 col7\" >9,559,321.99</td>\n",
       "      <td id=\"T_16796_row8_col8\" class=\"data row8 col8\" >149,858,361.14</td>\n",
       "    </tr>\n",
       "  </tbody>\n",
       "</table>\n"
      ],
      "text/plain": [
       "<pandas.io.formats.style.Styler at 0x30ab2c5f0>"
      ]
     },
     "execution_count": 285,
     "metadata": {},
     "output_type": "execute_result"
    }
   ],
   "source": [
    "# 1. Create a pivot table showing the breakdown of sales across these dimensions, in this order: category, decade age range (e.g., 10-19, 20-29, and so forth).\n",
    "age_order = sorted(merged['age_range'].unique(), key=lambda x: int(float(x.split('-')[0])))\n",
    "\n",
    "pivot = pd.pivot_table(\n",
    "    merged,\n",
    "    index = 'category',\n",
    "    columns = 'age_range',\n",
    "    values = 'total_sales',\n",
    "    aggfunc = 'sum',\n",
    "    fill_value=0)\n",
    "\n",
    "pivot = pivot[age_order]\n",
    "pivot['Total'] = pivot.sum(axis=1)\n",
    "pivot.loc['Total'] = pivot.sum()\n",
    "pivot.style.format(\"{:,.2f}\")\n"
   ]
  },
  {
   "cell_type": "code",
   "execution_count": null,
   "id": "06403daa-ae9a-40ab-8643-a60d979a357d",
   "metadata": {},
   "outputs": [],
   "source": []
  }
 ],
 "metadata": {
  "kernelspec": {
   "display_name": "Python [conda env:base] *",
   "language": "python",
   "name": "conda-base-py"
  },
  "language_info": {
   "codemirror_mode": {
    "name": "ipython",
    "version": 3
   },
   "file_extension": ".py",
   "mimetype": "text/x-python",
   "name": "python",
   "nbconvert_exporter": "python",
   "pygments_lexer": "ipython3",
   "version": "3.12.7"
  }
 },
 "nbformat": 4,
 "nbformat_minor": 5
}
