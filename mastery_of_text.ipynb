{
 "cells": [
  {
   "cell_type": "code",
   "execution_count": 14,
   "id": "aa4e3dac-daf1-4087-84e1-e9e12c52641f",
   "metadata": {},
   "outputs": [],
   "source": [
    "#Importing Text\n",
    "import urllib.request\n",
    "link=\"https://www.gutenberg.org/cache/epub/10/pg10.txt\"\n",
    "response=urllib.request.urlopen(link)\n",
    "pg10=response.read().decode(\"utf-8\")"
   ]
  },
  {
   "cell_type": "code",
   "execution_count": 97,
   "id": "a3943e13-ff8e-42fc-a7a6-4231aac5ded3",
   "metadata": {},
   "outputs": [
    {
     "name": "stdout",
     "output_type": "stream",
     "text": [
      "1. 99969 lines\n"
     ]
    }
   ],
   "source": [
    "lines=1\n",
    "for a in pg10:\n",
    "    if a== '\\n':\n",
    "        lines+=1\n",
    "print(\"1.\", lines, \"lines\")\n"
   ]
  },
  {
   "cell_type": "code",
   "execution_count": 98,
   "id": "a4800a30-17c2-4512-88c9-549d9077006c",
   "metadata": {},
   "outputs": [
    {
     "name": "stdout",
     "output_type": "stream",
     "text": [
      "2. 795227 words\n"
     ]
    }
   ],
   "source": [
    "#counting words\n",
    "wordcount=[]\n",
    "currentword=\"\"\n",
    "for character in pg10:\n",
    "    if character.isalpha():\n",
    "        currentword+=character\n",
    "    else:\n",
    "        if currentword:\n",
    "            wordcount.append(currentword)\n",
    "            currentword=\"\"\n",
    "if currentword:\n",
    "    wordcount.append(currentword) \n",
    " \n",
    "print(\"2.\", len(wordcount), \"words\")"
   ]
  },
  {
   "cell_type": "code",
   "execution_count": 99,
   "id": "38deea53-3685-4fac-b091-481188a17aa2",
   "metadata": {},
   "outputs": [
    {
     "name": "stdout",
     "output_type": "stream",
     "text": [
      "3. 47 times the word 'apostle' appears\n"
     ]
    }
   ],
   "source": [
    "#counting \"apostle\"\n",
    "word= \"apostle\"\n",
    "word=word.lower()\n",
    "words=[]\n",
    "current=\"\"\n",
    "for letter in pg10:\n",
    "    if letter.isalpha():\n",
    "        current+=letter\n",
    "    else:\n",
    "        if current:\n",
    "            words.append(current.lower())\n",
    "            current=\"\"\n",
    "if current:\n",
    "    words.append(current.lower())\n",
    "count = 0\n",
    "for w in words:\n",
    "    if w==word:\n",
    "        count+=1\n",
    "print(\"3.\", count, \"times the word 'apostle' appears\")"
   ]
  },
  {
   "cell_type": "code",
   "execution_count": 103,
   "id": "eacacd97-8ff2-4788-8079-ebf0a30ce404",
   "metadata": {},
   "outputs": [
    {
     "name": "stdout",
     "output_type": "stream",
     "text": [
      "4. ' the ' is the most common\n"
     ]
    }
   ],
   "source": [
    "#most common word\n",
    "lower_pg10 = pg10.lower()\n",
    "words=[]\n",
    "current =\"\"\n",
    "for letter in lower_pg10:\n",
    "    if letter.isalpha():\n",
    "        current+= letter\n",
    "    else:\n",
    "        if current:\n",
    "            words.append(current)\n",
    "            current=\"\"\n",
    "if current:\n",
    "    words.append(current)\n",
    "word_counts={}\n",
    "for word in words:\n",
    "    if word in word_counts:\n",
    "        word_counts[word]+= 1\n",
    "    else:\n",
    "        word_counts[word]=1\n",
    "most_common_word=\"\"\n",
    "highest_count=0\n",
    "for word in word_counts:\n",
    "    if word_counts[word]>highest_count:\n",
    "        highest_count=word_counts[word]\n",
    "        most_common_word=word\n",
    "\n",
    "print(\"4. '\", most_common_word, \"'\", \"is the most common\")"
   ]
  }
 ],
 "metadata": {
  "kernelspec": {
   "display_name": "Python [conda env:base] *",
   "language": "python",
   "name": "conda-base-py"
  },
  "language_info": {
   "codemirror_mode": {
    "name": "ipython",
    "version": 3
   },
   "file_extension": ".py",
   "mimetype": "text/x-python",
   "name": "python",
   "nbconvert_exporter": "python",
   "pygments_lexer": "ipython3",
   "version": "3.12.7"
  }
 },
 "nbformat": 4,
 "nbformat_minor": 5
}
